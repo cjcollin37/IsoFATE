{
 "cells": [
  {
   "cell_type": "code",
   "execution_count": null,
   "id": "d9233b2c",
   "metadata": {},
   "outputs": [],
   "source": [
    "import isofate as iso\n",
    "import pickle\n",
    "import time as TIME\n",
    "\n",
    "import matplotlib.pyplot as plt\n",
    "\n",
    "import isofate.constants as const\n",
    "\n",
    "from isofate.isofate_coupler import isocalc\n",
    "\n",
    "from isofate.isofunks import *\n",
    "from isofate.orbit_params import SemiMajor, Insolation, EqTemp\n",
    "from isofate.isoplot import isoplot\n"
   ]
  },
  {
   "cell_type": "markdown",
   "id": "6726a396",
   "metadata": {},
   "source": [
    "# Setting model parameters"
   ]
  },
  {
   "cell_type": "markdown",
   "id": "ece1b578",
   "metadata": {},
   "source": [
    "### Define stellar parameters"
   ]
  },
  {
   "cell_type": "code",
   "execution_count": null,
   "id": "d6cd18cf",
   "metadata": {},
   "outputs": [],
   "source": [
    "# # LHS 1140\n",
    "R_star = 0.22*const.Rs # [m]\n",
    "M_star = 0.18*const.Ms # [kg]\n",
    "T_star = 3096 # [K]\n",
    "t_jump = 5.9 - 15.4*(M_star/const.Ms)\n",
    "L = 0.0038*const.Ls\n",
    "stellar_type = 'M1'"
   ]
  },
  {
   "cell_type": "markdown",
   "id": "37ffa55f",
   "metadata": {},
   "source": [
    "### Define planet parameters"
   ]
  },
  {
   "cell_type": "code",
   "execution_count": null,
   "id": "d4e31dd9",
   "metadata": {},
   "outputs": [],
   "source": [
    "f_atm = 0.02\n",
    "P = 5/const.s2day\n",
    "a = SemiMajor(M_star, P) # [m]\n",
    "d = a\n",
    "\n",
    "Mp = 5*const.Me\n",
    "M_atm = Mp*f_atm # initial atmospheric mass [kg]"
   ]
  },
  {
   "cell_type": "markdown",
   "id": "2d6a6d11",
   "metadata": {},
   "source": [
    "### Set Stellar Flux properties "
   ]
  },
  {
   "cell_type": "code",
   "execution_count": null,
   "id": "b695bca3",
   "metadata": {},
   "outputs": [],
   "source": [
    "Fp = Insolation(L, a)  # [W/m2]\n",
    "T = EqTemp(Fp, A = 0) # planetary eq temp [K]\n",
    "\n",
    "F0 = Fp*1e-3 # use for M star \n",
    "F_final = 0.170 # 0.170 for GJ 699 MUSCLES; use 0.033 for GJ 1132 MUSCLES\n",
    "flux_model = 'power law'"
   ]
  },
  {
   "cell_type": "markdown",
   "id": "907fcd9c",
   "metadata": {},
   "source": [
    "### Set simulation times"
   ]
  },
  {
   "cell_type": "code",
   "execution_count": null,
   "id": "832b7c16",
   "metadata": {},
   "outputs": [],
   "source": [
    "t_sat = 5e8 # XUV saturation time [yr]\n",
    "# t_sat = t_jump*1e9 # XUV saturation time [yr]\n",
    "d = a # orbital distance [m]\n",
    "time = 5e9 # total simulation time [yr]\n",
    "t0 = 1e6 # start time [yr]\n",
    "t_pms = 0 # pms phase duration [yr]\n",
    "\n",
    "step_fn = False"
   ]
  },
  {
   "cell_type": "markdown",
   "id": "59794971",
   "metadata": {},
   "source": [
    "### Atmodeller parameters"
   ]
  },
  {
   "cell_type": "code",
   "execution_count": null,
   "id": "792bba7a",
   "metadata": {},
   "outputs": [],
   "source": [
    "mechanism = 'XUV' # if using fixed phi, be sure to change Rp = r_core below and rad_evol = False\n",
    "RR = True\n",
    "rad_evol = True\n",
    "Rp_override = False\n",
    "n_steps = int(1e5)\n",
    "n_atmodeller = int(1e4)\n",
    "thermal = True\n",
    "\n",
    "melt_fraction_override = False\n",
    "save_molecules = True\n",
    "# mantle_iron_dict = {'type': 'static', 'Fe_mass_fraction': 0.1}\n",
    "mantle_iron_dict = False\n",
    "\n",
    "OtoH_enhancement = 1\n",
    "OtoH_enhanced = const.OtoH_protosolar*OtoH_enhancement\n",
    "OtoH_enhanced_mass = OtoH_enhanced*(const.mu_O/const.mu_H)"
   ]
  },
  {
   "cell_type": "markdown",
   "id": "13379ca4",
   "metadata": {},
   "source": [
    "### Setting number of species in atmosphere"
   ]
  },
  {
   "cell_type": "code",
   "execution_count": null,
   "id": "847f957e",
   "metadata": {},
   "outputs": [],
   "source": [
    "N_He = (const.HetoH_protosolar_mass/(1 + const.HetoH_protosolar_mass))*M_atm/const.mu_He # initial He number [atoms]# N_He = 0\n",
    "N_H = (1 - const.DtoH_solar_mass - OtoH_enhanced_mass - const.CtoH_protosolar_mass - const.NtoH_protosolar_mass - const.StoH_protosolar_mass)*M_atm/(1 + const.HetoH_protosolar_mass)/const.mu_H  # initial H number [atoms]\n",
    "N_D = const.DtoH_solar_mass*M_atm/(1 + const.HetoH_protosolar_mass)/const.mu_D\n",
    "N_O = OtoH_enhanced_mass*M_atm/(1 + const.HetoH_protosolar_mass)/const.mu_O\n",
    "N_C = const.CtoH_protosolar_mass*M_atm/(1 + const.HetoH_protosolar_mass)/const.mu_C\n",
    "mu_avg = (N_H*const.mu_H + N_He*const.mu_He + N_D*const.mu_D + N_O*const.mu_O + N_C*const.mu_C)/(N_H+N_He+N_D+N_O+N_C)"
   ]
  },
  {
   "cell_type": "markdown",
   "id": "fd913574",
   "metadata": {},
   "source": [
    "# Run IsoFATE"
   ]
  },
  {
   "cell_type": "code",
   "execution_count": null,
   "id": "8e2df6ba",
   "metadata": {},
   "outputs": [],
   "source": [
    "sol = isocalc(f_atm, Mp, M_star, F0, Fp, T, d, time, mechanism, rad_evol,\n",
    "              N_H = N_H, N_He = N_He, N_D = N_D, N_O = N_O, N_C = N_C, melt_fraction_override = melt_fraction_override,\n",
    "              mu = mu_avg, eps = 0.15, activity = 'medium', flux_model = flux_model, stellar_type = stellar_type, \n",
    "              Rp_override = Rp_override, t_sat = t_sat, step_fn = step_fn, F_final = F_final, t_pms = t_pms, pms_factor = 1e2,\n",
    "              n_steps = n_steps, t0 = t0, rho_rcb = 1.0, RR = RR,\n",
    "              thermal = thermal, beta = -1.23, n_atmodeller = n_atmodeller, \n",
    "              save_molecules = save_molecules, mantle_iron_dict = mantle_iron_dict)"
   ]
  },
  {
   "cell_type": "markdown",
   "id": "47841366",
   "metadata": {},
   "source": [
    "### Plot Outputs"
   ]
  },
  {
   "cell_type": "code",
   "execution_count": null,
   "id": "74c94dc2",
   "metadata": {},
   "outputs": [],
   "source": [
    "isoplot(sol, n_atmodeller, Mp, f_atm, Fp, T, M_star, d)"
   ]
  }
 ],
 "metadata": {
  "kernelspec": {
   "display_name": "temp.venv",
   "language": "python",
   "name": "python3"
  },
  "language_info": {
   "name": "python",
   "version": "3.10.0"
  }
 },
 "nbformat": 4,
 "nbformat_minor": 5
}
